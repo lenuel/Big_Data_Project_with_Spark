{
 "cells": [
  {
   "cell_type": "markdown",
   "metadata": {},
   "source": [
    "# Data Frame Coding Quiz\n",
    "\n",
    "Use this Jupyter notebook to find the answers to the quiz in the previous section. There is an answer key in the next part of the lesson."
   ]
  },
  {
   "cell_type": "code",
   "execution_count": 220,
   "metadata": {},
   "outputs": [],
   "source": [
    "from pyspark.sql import SparkSession\n",
    "from pyspark.sql.functions import udf\n",
    "from pyspark.sql.types import StringType\n",
    "from pyspark.sql.types import IntegerType\n",
    "from pyspark.sql.functions import desc\n",
    "from pyspark.sql.functions import asc\n",
    "from pyspark.sql.functions import sum as Fsum\n",
    "\n",
    "import datetime\n",
    "\n",
    "import numpy as np\n",
    "import pandas as pd\n",
    "%matplotlib inline\n",
    "import matplotlib.pyplot as plt\n",
    "\n",
    "\n",
    "spark = SparkSession \\\n",
    "    .builder \\\n",
    "    .appName(\"Quiz1\") \\\n",
    "    .getOrCreate()\n",
    "\n",
    "\n",
    "path = \"data/sparkify_log_small.json\"\n",
    "user_log = spark.read.json(path)\n"
   ]
  },
  {
   "cell_type": "code",
   "execution_count": 221,
   "metadata": {},
   "outputs": [
    {
     "name": "stdout",
     "output_type": "stream",
     "text": [
      "root\n",
      " |-- artist: string (nullable = true)\n",
      " |-- auth: string (nullable = true)\n",
      " |-- firstName: string (nullable = true)\n",
      " |-- gender: string (nullable = true)\n",
      " |-- itemInSession: long (nullable = true)\n",
      " |-- lastName: string (nullable = true)\n",
      " |-- length: double (nullable = true)\n",
      " |-- level: string (nullable = true)\n",
      " |-- location: string (nullable = true)\n",
      " |-- method: string (nullable = true)\n",
      " |-- page: string (nullable = true)\n",
      " |-- registration: long (nullable = true)\n",
      " |-- sessionId: long (nullable = true)\n",
      " |-- song: string (nullable = true)\n",
      " |-- status: long (nullable = true)\n",
      " |-- ts: long (nullable = true)\n",
      " |-- userAgent: string (nullable = true)\n",
      " |-- userId: string (nullable = true)\n",
      "\n"
     ]
    }
   ],
   "source": [
    "user_log.printSchema()"
   ]
  },
  {
   "cell_type": "markdown",
   "metadata": {},
   "source": [
    "# Question 1\n",
    "\n",
    "Which page did user id \"\" (empty string) NOT visit?"
   ]
  },
  {
   "cell_type": "code",
   "execution_count": 222,
   "metadata": {},
   "outputs": [
    {
     "name": "stdout",
     "output_type": "stream",
     "text": [
      "+-----+\n",
      "| page|\n",
      "+-----+\n",
      "| Home|\n",
      "|About|\n",
      "|Login|\n",
      "| Help|\n",
      "+-----+\n",
      "\n"
     ]
    }
   ],
   "source": [
    "user_log.filter(user_log.userId==\"\").select(\"page\").dropDuplicates().show()"
   ]
  },
  {
   "cell_type": "code",
   "execution_count": 223,
   "metadata": {},
   "outputs": [],
   "source": [
    "x = user_log.filter(user_log.userId==\"\").select(\"page\").dropDuplicates().collect()"
   ]
  },
  {
   "cell_type": "code",
   "execution_count": 224,
   "metadata": {},
   "outputs": [
    {
     "name": "stdout",
     "output_type": "stream",
     "text": [
      "+----------------+\n",
      "|            page|\n",
      "+----------------+\n",
      "|Submit Downgrade|\n",
      "|            Home|\n",
      "|       Downgrade|\n",
      "|          Logout|\n",
      "|   Save Settings|\n",
      "|           About|\n",
      "|        Settings|\n",
      "|           Login|\n",
      "|        NextSong|\n",
      "|            Help|\n",
      "|         Upgrade|\n",
      "|           Error|\n",
      "|  Submit Upgrade|\n",
      "+----------------+\n",
      "\n"
     ]
    }
   ],
   "source": [
    "user_log.select(\"page\").dropDuplicates().show()"
   ]
  },
  {
   "cell_type": "code",
   "execution_count": 225,
   "metadata": {},
   "outputs": [],
   "source": [
    "y =user_log.select(\"page\").dropDuplicates().collect()"
   ]
  },
  {
   "cell_type": "code",
   "execution_count": 226,
   "metadata": {},
   "outputs": [
    {
     "data": {
      "text/plain": [
       "array(['Downgrade', 'Error', 'Logout', 'NextSong', 'Save Settings',\n",
       "       'Settings', 'Submit Downgrade', 'Submit Upgrade', 'Upgrade'], \n",
       "      dtype='<U16')"
      ]
     },
     "execution_count": 226,
     "metadata": {},
     "output_type": "execute_result"
    }
   ],
   "source": [
    "np.setdiff1d(np.array(y),np.array(x))"
   ]
  },
  {
   "cell_type": "code",
   "execution_count": 227,
   "metadata": {},
   "outputs": [
    {
     "data": {
      "text/plain": [
       "[Row(page='Submit Downgrade'),\n",
       " Row(page='Downgrade'),\n",
       " Row(page='Logout'),\n",
       " Row(page='Save Settings'),\n",
       " Row(page='Settings'),\n",
       " Row(page='NextSong'),\n",
       " Row(page='Upgrade'),\n",
       " Row(page='Error'),\n",
       " Row(page='Submit Upgrade')]"
      ]
     },
     "execution_count": 227,
     "metadata": {},
     "output_type": "execute_result"
    }
   ],
   "source": [
    "(user_log.select(\"page\").dropDuplicates().subtract(user_log.filter(user_log.userId==\"\").select(\"page\").dropDuplicates())).collect()"
   ]
  },
  {
   "cell_type": "markdown",
   "metadata": {},
   "source": [
    "# Question 2 - Reflect\n",
    "\n",
    "What type of user does the empty string user id most likely refer to?\n"
   ]
  },
  {
   "cell_type": "code",
   "execution_count": 228,
   "metadata": {},
   "outputs": [
    {
     "name": "stdout",
     "output_type": "stream",
     "text": [
      "+------+----------+---------+------+-------------+--------+------+-----+--------+------+-----+------------+---------+----+------+-------------+---------+------+\n",
      "|artist|      auth|firstName|gender|itemInSession|lastName|length|level|location|method| page|registration|sessionId|song|status|           ts|userAgent|userId|\n",
      "+------+----------+---------+------+-------------+--------+------+-----+--------+------+-----+------------+---------+----+------+-------------+---------+------+\n",
      "|  null|Logged Out|     null|  null|            0|    null|  null| free|    null|   PUT|Login|        null|     5598|null|   307|1513721196284|     null|      |\n",
      "|  null|Logged Out|     null|  null|           26|    null|  null| paid|    null|   GET| Home|        null|      428|null|   200|1513721274284|     null|      |\n",
      "|  null|Logged Out|     null|  null|            5|    null|  null| free|    null|   GET| Home|        null|     2941|null|   200|1513722009284|     null|      |\n",
      "|  null|Logged Out|     null|  null|            5|    null|  null| paid|    null|   GET| Home|        null|     5243|null|   200|1513723183284|     null|      |\n",
      "|  null|Logged Out|     null|  null|            6|    null|  null| paid|    null|   PUT|Login|        null|     5243|null|   307|1513723184284|     null|      |\n",
      "|  null|Logged Out|     null|  null|            0|    null|  null| free|    null|   PUT|Login|        null|     1477|null|   307|1513723587284|     null|      |\n",
      "|  null|Logged Out|     null|  null|           14|    null|  null| paid|    null|   GET| Home|        null|     5243|null|   200|1513724475284|     null|      |\n",
      "|  null|Logged Out|     null|  null|            7|    null|  null| paid|    null|   GET| Home|        null|     4108|null|   200|1513724530284|     null|      |\n",
      "|  null|Logged Out|     null|  null|            0|    null|  null| paid|    null|   PUT|Login|        null|     5764|null|   307|1513728229284|     null|      |\n",
      "|  null|Logged Out|     null|  null|            0|    null|  null| paid|    null|   GET| Home|        null|     5566|null|   200|1513729051284|     null|      |\n",
      "|  null|Logged Out|     null|  null|            1|    null|  null| paid|    null|   PUT|Login|        null|     5566|null|   307|1513729052284|     null|      |\n",
      "|  null|Logged Out|     null|  null|            0|    null|  null| paid|    null|   GET| Home|        null|     3697|null|   200|1513729376284|     null|      |\n",
      "|  null|Logged Out|     null|  null|            1|    null|  null| paid|    null|   GET| Help|        null|     3697|null|   200|1513729445284|     null|      |\n",
      "|  null|Logged Out|     null|  null|           60|    null|  null| paid|    null|   GET| Home|        null|     5175|null|   200|1513729762284|     null|      |\n",
      "|  null|Logged Out|     null|  null|           61|    null|  null| paid|    null|   PUT|Login|        null|     5175|null|   307|1513729763284|     null|      |\n",
      "|  null|Logged Out|     null|  null|            0|    null|  null| free|    null|   GET| Home|        null|      511|null|   200|1513730128284|     null|      |\n",
      "|  null|Logged Out|     null|  null|            1|    null|  null| free|    null|   PUT|Login|        null|      511|null|   307|1513730129284|     null|      |\n",
      "|  null|Logged Out|     null|  null|            0|    null|  null| free|    null|   GET| Home|        null|     2992|null|   200|1513730621284|     null|      |\n",
      "|  null|Logged Out|     null|  null|            1|    null|  null| free|    null|   PUT|Login|        null|     2992|null|   307|1513730622284|     null|      |\n",
      "|  null|Logged Out|     null|  null|            8|    null|  null| paid|    null|   GET| Home|        null|     4239|null|   200|1513730953284|     null|      |\n",
      "+------+----------+---------+------+-------------+--------+------+-----+--------+------+-----+------------+---------+----+------+-------------+---------+------+\n",
      "only showing top 20 rows\n",
      "\n"
     ]
    }
   ],
   "source": [
    "user_log.filter(user_log.userId==\"\").show()\n",
    "#"
   ]
  },
  {
   "cell_type": "code",
   "execution_count": 229,
   "metadata": {},
   "outputs": [
    {
     "name": "stdout",
     "output_type": "stream",
     "text": [
      "+----+\n",
      "|song|\n",
      "+----+\n",
      "|null|\n",
      "+----+\n",
      "\n"
     ]
    }
   ],
   "source": [
    "user_log.filter(user_log.userId==\"\").select(\"song\").dropDuplicates().show()"
   ]
  },
  {
   "cell_type": "code",
   "execution_count": 230,
   "metadata": {},
   "outputs": [
    {
     "name": "stdout",
     "output_type": "stream",
     "text": [
      "+-----+\n",
      "|level|\n",
      "+-----+\n",
      "| free|\n",
      "| paid|\n",
      "+-----+\n",
      "\n"
     ]
    }
   ],
   "source": [
    "user_log.filter(user_log.userId==\"\").select(\"level\").dropDuplicates().show()"
   ]
  },
  {
   "cell_type": "code",
   "execution_count": 231,
   "metadata": {},
   "outputs": [
    {
     "name": "stdout",
     "output_type": "stream",
     "text": [
      "+------+\n",
      "|status|\n",
      "+------+\n",
      "|   307|\n",
      "|   200|\n",
      "+------+\n",
      "\n"
     ]
    }
   ],
   "source": [
    "user_log.filter(user_log.userId==\"\").select(\"status\").dropDuplicates().show()"
   ]
  },
  {
   "cell_type": "code",
   "execution_count": 232,
   "metadata": {},
   "outputs": [
    {
     "name": "stdout",
     "output_type": "stream",
     "text": [
      "+---------+\n",
      "|userAgent|\n",
      "+---------+\n",
      "|     null|\n",
      "+---------+\n",
      "\n"
     ]
    }
   ],
   "source": [
    "user_log.filter(user_log.userId==\"\").select(\"userAgent\").dropDuplicates().show()"
   ]
  },
  {
   "cell_type": "markdown",
   "metadata": {},
   "source": [
    "unregistered users, or ones haven't listened to a song yet"
   ]
  },
  {
   "cell_type": "markdown",
   "metadata": {},
   "source": [
    "# Question 3\n",
    "\n",
    "How many female users do we have in the data set?"
   ]
  },
  {
   "cell_type": "code",
   "execution_count": 233,
   "metadata": {},
   "outputs": [
    {
     "data": {
      "text/plain": [
       "462"
      ]
     },
     "execution_count": 233,
     "metadata": {},
     "output_type": "execute_result"
    }
   ],
   "source": [
    "user_log_valid = user_log.dropna(how = \"any\", subset = [\"userId\", \"sessionId\"])\n",
    "user_log_valid = user_log_valid.filter(user_log_valid[\"userId\"] != \"\")\n",
    "user_log_valid.filter(user_log_valid.gender == \"F\").select(\"userId\").dropDuplicates().count()\n",
    "#user_log.select(\"gender\").show()"
   ]
  },
  {
   "cell_type": "code",
   "execution_count": 234,
   "metadata": {},
   "outputs": [
    {
     "name": "stdout",
     "output_type": "stream",
     "text": [
      "+------+-----+\n",
      "|gender|count|\n",
      "+------+-----+\n",
      "|     F|  462|\n",
      "|     M|  501|\n",
      "+------+-----+\n",
      "\n"
     ]
    }
   ],
   "source": [
    "user_log_valid.select([\"userId\",\"gender\"]).dropDuplicates().groupBy(user_log_valid.gender).count().show()"
   ]
  },
  {
   "cell_type": "markdown",
   "metadata": {},
   "source": [
    "# Question 4\n",
    "\n",
    "How many songs were played from the most played artist?"
   ]
  },
  {
   "cell_type": "code",
   "execution_count": 235,
   "metadata": {
    "scrolled": false
   },
   "outputs": [
    {
     "name": "stdout",
     "output_type": "stream",
     "text": [
      "+--------------------+-----+\n",
      "|              artist|count|\n",
      "+--------------------+-----+\n",
      "|            Coldplay|   83|\n",
      "|       Kings Of Leon|   69|\n",
      "|Florence + The Ma...|   52|\n",
      "|            BjÃÂ¶rk|   46|\n",
      "|       Dwight Yoakam|   45|\n",
      "+--------------------+-----+\n",
      "only showing top 5 rows\n",
      "\n"
     ]
    }
   ],
   "source": [
    "user_log_valid.filter(user_log_valid.page == 'NextSong').select([\"artist\", \"song\", \"userId\"]).groupBy(\"artist\").count().sort(\"count\", ascending=False).show(5)"
   ]
  },
  {
   "cell_type": "markdown",
   "metadata": {},
   "source": [
    "# Question 5 (challenge)\n",
    "\n",
    "How many songs do users listen to on average between visiting our home page? Please round your answer to the closest integer.\n",
    "\n"
   ]
  },
  {
   "cell_type": "code",
   "execution_count": 277,
   "metadata": {},
   "outputs": [],
   "source": [
    "Home_visit = udf(lambda x: 1 if x == \"Home\" else 0, IntegerType())\n",
    "user_log_valid = user_log_valid.withColumn(\"Home_visit\", Home_visit(\"page\"))\n"
   ]
  },
  {
   "cell_type": "code",
   "execution_count": 278,
   "metadata": {},
   "outputs": [
    {
     "name": "stdout",
     "output_type": "stream",
     "text": [
      "+----------+\n",
      "|Home_visit|\n",
      "+----------+\n",
      "|         0|\n",
      "|         0|\n",
      "|         0|\n",
      "|         0|\n",
      "|         1|\n",
      "|         0|\n",
      "|         0|\n",
      "|         0|\n",
      "|         1|\n",
      "|         1|\n",
      "|         0|\n",
      "|         0|\n",
      "|         0|\n",
      "|         0|\n",
      "|         0|\n",
      "|         0|\n",
      "|         1|\n",
      "|         0|\n",
      "|         0|\n",
      "|         0|\n",
      "+----------+\n",
      "only showing top 20 rows\n",
      "\n"
     ]
    }
   ],
   "source": [
    "user_log_valid.select(\"Home_visit\").show()"
   ]
  },
  {
   "cell_type": "code",
   "execution_count": 279,
   "metadata": {},
   "outputs": [
    {
     "name": "stdout",
     "output_type": "stream",
     "text": [
      "+------+--------------------+--------+----------+\n",
      "|userId|                song|    page|Home_visit|\n",
      "+------+--------------------+--------+----------+\n",
      "|  1046|Christmas Tears W...|NextSong|         0|\n",
      "|  1000|       Cheryl Tweedy|NextSong|         0|\n",
      "|  2219|Good Girls Go Bad...|NextSong|         0|\n",
      "|  2373| Don't See The Point|NextSong|         0|\n",
      "|  1747|                null|    Home|         1|\n",
      "|  1747|                null|Settings|         0|\n",
      "|  1162|        Smoke Buddah|NextSong|         0|\n",
      "|  1061|           On My Own|NextSong|         0|\n",
      "|   748|                null|    Home|         1|\n",
      "|   597|                null|    Home|         1|\n",
      "+------+--------------------+--------+----------+\n",
      "only showing top 10 rows\n",
      "\n"
     ]
    }
   ],
   "source": [
    "user_log_valid.select([\"userId\", \"song\", \"page\", \"Home_visit\"]).show(10)"
   ]
  },
  {
   "cell_type": "code",
   "execution_count": 280,
   "metadata": {},
   "outputs": [
    {
     "name": "stdout",
     "output_type": "stream",
     "text": [
      "+------+-----+\n",
      "|userid|count|\n",
      "+------+-----+\n",
      "|  2904|    1|\n",
      "|   691|    4|\n",
      "|  2294|   62|\n",
      "|  2162|   39|\n",
      "|  1436|    2|\n",
      "|  2088|   14|\n",
      "|  2275|    5|\n",
      "|  2756|    8|\n",
      "|   800|    3|\n",
      "|  1394|   28|\n",
      "+------+-----+\n",
      "only showing top 10 rows\n",
      "\n"
     ]
    }
   ],
   "source": [
    "user_log_valid.select([\"userId\", \"song\", \"page\", \"Home_visit\"]).groupby(\"userid\").count().show(10)"
   ]
  },
  {
   "cell_type": "code",
   "execution_count": 281,
   "metadata": {},
   "outputs": [
    {
     "name": "stdout",
     "output_type": "stream",
     "text": [
      "+------+-------------+--------------------+--------+----------+\n",
      "|userId|           ts|                song|    page|Home_visit|\n",
      "+------+-------------+--------------------+--------+----------+\n",
      "|    10|1513790894284|             Secrets|NextSong|         0|\n",
      "|    10|1513828388284|             Overdue|NextSong|         0|\n",
      "|   100|1513750214284|                1972|NextSong|         0|\n",
      "|   100|1513750442284|             Secrets|NextSong|         0|\n",
      "|   100|1513775431284|                null|    Home|         1|\n",
      "|   100|1513775556284|Don't It Make My ...|NextSong|         0|\n",
      "|   100|1513775710284|Clouds (Of Color ...|NextSong|         0|\n",
      "|   100|1513776194284|                null|    Home|         1|\n",
      "|   100|1513776308284|                0010|NextSong|         0|\n",
      "|   100|1513839673284|                null|    Home|         1|\n",
      "|  1000|1513720878284|       Cheryl Tweedy|NextSong|         0|\n",
      "|  1003|1513749501284|                null|    Home|         1|\n",
      "|  1003|1513749516284|         The Hipster|NextSong|         0|\n",
      "|  1003|1513749525284|                null|    Home|         1|\n",
      "|  1005|1513782278284|      Nuits Blanches|NextSong|         0|\n",
      "|  1006|1513773548284|A Comet Appears (...|NextSong|         0|\n",
      "|  1006|1513773777284|Well Thought Out ...|NextSong|         0|\n",
      "|  1006|1513774019284| Where Is Everybody?|NextSong|         0|\n",
      "|  1017|1513817806284|           Savin' Me|NextSong|         0|\n",
      "|  1017|1513818023284|               Thump|NextSong|         0|\n",
      "|  1017|1513818488284|         Tenuousness|NextSong|         0|\n",
      "|  1017|1513818718284|        Skeleton Boy|NextSong|         0|\n",
      "|  1017|1513818931284|           Old Flame|NextSong|         0|\n",
      "|  1017|1513819172284|            Tive Sim|NextSong|         0|\n",
      "|  1017|1513820906284|                null|    Home|         1|\n",
      "|  1017|1513821152284| Ridiculous Thoughts|NextSong|         0|\n",
      "|  1017|1513821424284|When A Man Is Wro...|NextSong|         0|\n",
      "|  1017|1513821682284|           Blue Fire|NextSong|         0|\n",
      "|  1017|1513822400284|                null|    Home|         1|\n",
      "|  1017|1513822643284|    Ain't Misbehavin|NextSong|         0|\n",
      "+------+-------------+--------------------+--------+----------+\n",
      "only showing top 30 rows\n",
      "\n"
     ]
    }
   ],
   "source": [
    "user_log_valid.select([\"userId\", \"ts\", \"song\", \"page\", \"Home_visit\"]).orderBy([\"userid\",\"ts\"]).show(30)"
   ]
  },
  {
   "cell_type": "code",
   "execution_count": 282,
   "metadata": {},
   "outputs": [],
   "source": [
    "from pyspark.sql import Window\n",
    "windowval = Window.partitionBy([\"userId\"]).orderBy(desc('ts')).rangeBetween(Window.unboundedPreceding, 0)\n",
    "\n",
    "# none worked when \"Home\" 0\n",
    "#rangeBetween(Window.unboundedPreceding, 0)\n",
    "#windowval2 = Window.partitionBy([\"userId\", \"Home_visit\"]).orderBy([\"ts\"]).rangeBetween(0, Window.unboundedFollowing)\n",
    "#windowval3 = Window.partitionBy([\"userId\", \"Home_visit\"]).orderBy([\"ts\"]).rowsBetween(Window.unboundedPreceding, Window.currentRow)\n"
   ]
  },
  {
   "cell_type": "code",
   "execution_count": 283,
   "metadata": {},
   "outputs": [],
   "source": [
    "from pyspark.sql.functions import avg, col\n",
    "from pyspark.sql.functions import count\n",
    "from pyspark.sql.functions import row_number\n",
    "\n",
    "user_log_valid = user_log_valid.withColumn(\"period\", Fsum(\"Home_visit\").over(windowval))\n"
   ]
  },
  {
   "cell_type": "code",
   "execution_count": 285,
   "metadata": {},
   "outputs": [
    {
     "name": "stdout",
     "output_type": "stream",
     "text": [
      "+------+---------+----------+------+\n",
      "|userId|     page|Home_visit|period|\n",
      "+------+---------+----------+------+\n",
      "|  1436| NextSong|         0|     0|\n",
      "|  1436| NextSong|         0|     0|\n",
      "|  2088|     Home|         1|     1|\n",
      "|  2088| NextSong|         0|     1|\n",
      "|  2088| NextSong|         0|     1|\n",
      "|  2088| NextSong|         0|     1|\n",
      "|  2088| NextSong|         0|     1|\n",
      "|  2088| NextSong|         0|     1|\n",
      "|  2088| NextSong|         0|     1|\n",
      "|  2088| NextSong|         0|     1|\n",
      "|  2088| NextSong|         0|     1|\n",
      "|  2088| NextSong|         0|     1|\n",
      "|  2088| NextSong|         0|     1|\n",
      "|  2088| NextSong|         0|     1|\n",
      "|  2088| NextSong|         0|     1|\n",
      "|  2088| NextSong|         0|     1|\n",
      "|  2162|Downgrade|         0|     0|\n",
      "|  2162| NextSong|         0|     0|\n",
      "|  2162| NextSong|         0|     0|\n",
      "|  2162| NextSong|         0|     0|\n",
      "|  2162| NextSong|         0|     0|\n",
      "|  2162| NextSong|         0|     0|\n",
      "|  2162| NextSong|         0|     0|\n",
      "|  2162| NextSong|         0|     0|\n",
      "|  2162| NextSong|         0|     0|\n",
      "|  2162| NextSong|         0|     0|\n",
      "|  2162| NextSong|         0|     0|\n",
      "|  2162| NextSong|         0|     0|\n",
      "|  2162| NextSong|         0|     0|\n",
      "|  2162| NextSong|         0|     0|\n",
      "|  2162| NextSong|         0|     0|\n",
      "|  2162| NextSong|         0|     0|\n",
      "|  2162| NextSong|         0|     0|\n",
      "|  2162| NextSong|         0|     0|\n",
      "|  2162| NextSong|         0|     0|\n",
      "|  2162| NextSong|         0|     0|\n",
      "|  2162|     Home|         1|     1|\n",
      "|  2162|     Home|         1|     2|\n",
      "|  2162| NextSong|         0|     2|\n",
      "|  2162| NextSong|         0|     2|\n",
      "|  2162|     Help|         0|     2|\n",
      "|  2162|     Help|         0|     2|\n",
      "|  2162| NextSong|         0|     2|\n",
      "|  2162| NextSong|         0|     2|\n",
      "|  2162| NextSong|         0|     2|\n",
      "|  2162| NextSong|         0|     2|\n",
      "|  2162| NextSong|         0|     2|\n",
      "|  2162| NextSong|         0|     2|\n",
      "|  2162| NextSong|         0|     2|\n",
      "|  2162| NextSong|         0|     2|\n",
      "|  2162| NextSong|         0|     2|\n",
      "|  2162| NextSong|         0|     2|\n",
      "|  2162| NextSong|         0|     2|\n",
      "|  2162| NextSong|         0|     2|\n",
      "|  2162| NextSong|         0|     2|\n",
      "|  2294|   Logout|         0|     0|\n",
      "|  2294| NextSong|         0|     0|\n",
      "|  2294| NextSong|         0|     0|\n",
      "|  2294| NextSong|         0|     0|\n",
      "|  2294| NextSong|         0|     0|\n",
      "|  2294|     Home|         1|     1|\n",
      "|  2294| NextSong|         0|     1|\n",
      "|  2294| NextSong|         0|     1|\n",
      "|  2294| NextSong|         0|     1|\n",
      "|  2294| NextSong|         0|     1|\n",
      "|  2294| NextSong|         0|     1|\n",
      "|  2294| NextSong|         0|     1|\n",
      "|  2294| NextSong|         0|     1|\n",
      "|  2294| NextSong|         0|     1|\n",
      "|  2294| NextSong|         0|     1|\n",
      "+------+---------+----------+------+\n",
      "only showing top 70 rows\n",
      "\n"
     ]
    }
   ],
   "source": [
    "user_log_valid.select([\"userId\", \"page\", \"Home_visit\", \"period\"]).show(70)"
   ]
  },
  {
   "cell_type": "code",
   "execution_count": 286,
   "metadata": {},
   "outputs": [],
   "source": [
    "x = user_log_valid.filter((user_log_valid.page == 'NextSong') | (user_log_valid.page == 'Home')) \\\n",
    "    .select('userID', 'page', 'ts', 'Home_visit', 'period')"
   ]
  },
  {
   "cell_type": "code",
   "execution_count": 287,
   "metadata": {},
   "outputs": [
    {
     "name": "stdout",
     "output_type": "stream",
     "text": [
      "+------+--------+-------------+----------+------+\n",
      "|userID|    page|           ts|Home_visit|period|\n",
      "+------+--------+-------------+----------+------+\n",
      "|  1436|NextSong|1513783259284|         0|     0|\n",
      "|  1436|NextSong|1513782858284|         0|     0|\n",
      "|  2088|    Home|1513805972284|         1|     1|\n",
      "|  2088|NextSong|1513805859284|         0|     1|\n",
      "|  2088|NextSong|1513805494284|         0|     1|\n",
      "|  2088|NextSong|1513805065284|         0|     1|\n",
      "|  2088|NextSong|1513804786284|         0|     1|\n",
      "|  2088|NextSong|1513804555284|         0|     1|\n",
      "|  2088|NextSong|1513804196284|         0|     1|\n",
      "|  2088|NextSong|1513803967284|         0|     1|\n",
      "|  2088|NextSong|1513803820284|         0|     1|\n",
      "|  2088|NextSong|1513803651284|         0|     1|\n",
      "|  2088|NextSong|1513803413284|         0|     1|\n",
      "|  2088|NextSong|1513803254284|         0|     1|\n",
      "|  2088|NextSong|1513803057284|         0|     1|\n",
      "|  2088|NextSong|1513802824284|         0|     1|\n",
      "|  2162|NextSong|1513781246284|         0|     0|\n",
      "|  2162|NextSong|1513781065284|         0|     0|\n",
      "|  2162|NextSong|1513780860284|         0|     0|\n",
      "|  2162|NextSong|1513780569284|         0|     0|\n",
      "|  2162|NextSong|1513780371284|         0|     0|\n",
      "|  2162|NextSong|1513780156284|         0|     0|\n",
      "|  2162|NextSong|1513779800284|         0|     0|\n",
      "|  2162|NextSong|1513779578284|         0|     0|\n",
      "|  2162|NextSong|1513779348284|         0|     0|\n",
      "|  2162|NextSong|1513778915284|         0|     0|\n",
      "|  2162|NextSong|1513778740284|         0|     0|\n",
      "|  2162|NextSong|1513778523284|         0|     0|\n",
      "|  2162|NextSong|1513778348284|         0|     0|\n",
      "|  2162|NextSong|1513778117284|         0|     0|\n",
      "|  2162|NextSong|1513777906284|         0|     0|\n",
      "|  2162|NextSong|1513777669284|         0|     0|\n",
      "|  2162|NextSong|1513777419284|         0|     0|\n",
      "|  2162|NextSong|1513777095284|         0|     0|\n",
      "|  2162|NextSong|1513776838284|         0|     0|\n",
      "|  2162|    Home|1513776699284|         1|     1|\n",
      "|  2162|    Home|1513776689284|         1|     2|\n",
      "|  2162|NextSong|1513776667284|         0|     2|\n",
      "|  2162|NextSong|1513776261284|         0|     2|\n",
      "|  2162|NextSong|1513776042284|         0|     2|\n",
      "|  2162|NextSong|1513775810284|         0|     2|\n",
      "|  2162|NextSong|1513775462284|         0|     2|\n",
      "|  2162|NextSong|1513775221284|         0|     2|\n",
      "|  2162|NextSong|1513775001284|         0|     2|\n",
      "|  2162|NextSong|1513774702284|         0|     2|\n",
      "|  2162|NextSong|1513774446284|         0|     2|\n",
      "|  2162|NextSong|1513774196284|         0|     2|\n",
      "|  2162|NextSong|1513773962284|         0|     2|\n",
      "|  2162|NextSong|1513773661284|         0|     2|\n",
      "|  2162|NextSong|1513773448284|         0|     2|\n",
      "+------+--------+-------------+----------+------+\n",
      "only showing top 50 rows\n",
      "\n"
     ]
    }
   ],
   "source": [
    "x.show(50)"
   ]
  },
  {
   "cell_type": "code",
   "execution_count": 288,
   "metadata": {},
   "outputs": [
    {
     "name": "stdout",
     "output_type": "stream",
     "text": [
      "+------+------+-------------+\n",
      "|userID|period|count(period)|\n",
      "+------+------+-------------+\n",
      "|  1436|     0|            2|\n",
      "|  2088|     1|           13|\n",
      "|  2162|     0|           19|\n",
      "|  2162|     2|           15|\n",
      "|  2294|     0|            4|\n",
      "|  2294|     1|           17|\n",
      "|  2294|     2|            3|\n",
      "|  2294|     3|           16|\n",
      "|  2294|     4|            4|\n",
      "|  2294|     5|           11|\n",
      "|  2904|     0|            1|\n",
      "|   691|     1|            3|\n",
      "|  1394|     0|            9|\n",
      "|  1394|     1|           17|\n",
      "|  2275|     0|            3|\n",
      "|  2756|     0|            4|\n",
      "|  2756|     2|            1|\n",
      "|   451|     0|            1|\n",
      "|   451|     1|            1|\n",
      "|   800|     1|            2|\n",
      "|  2696|     0|            1|\n",
      "|   870|     0|            2|\n",
      "|   926|     0|            2|\n",
      "|   926|     1|            2|\n",
      "|  1903|     1|            5|\n",
      "|   591|     0|            1|\n",
      "|     7|     0|            2|\n",
      "|   307|     0|            1|\n",
      "|   574|     1|            4|\n",
      "|   613|     0|            1|\n",
      "|   613|     1|            1|\n",
      "|  1043|     0|            1|\n",
      "|  2402|     0|            3|\n",
      "|  2644|     0|            1|\n",
      "|   577|     0|            1|\n",
      "|  1349|     0|            5|\n",
      "|  1349|     1|            6|\n",
      "|  1418|     0|            4|\n",
      "|  2392|     0|            1|\n",
      "|  2980|     0|            3|\n",
      "|  2980|     1|            2|\n",
      "|   442|     0|            6|\n",
      "|   462|     1|           46|\n",
      "|   462|     3|           71|\n",
      "|  1686|     0|            4|\n",
      "|  2628|     1|            2|\n",
      "|  2720|     0|            1|\n",
      "|   282|     0|            2|\n",
      "|   282|     2|            1|\n",
      "|   448|     0|            1|\n",
      "+------+------+-------------+\n",
      "only showing top 50 rows\n",
      "\n"
     ]
    }
   ],
   "source": [
    "x.filter((x.page == 'NextSong')) \\\n",
    "    .groupBy('userID', 'period') \\\n",
    "    .agg({'period':'count'}).show(50)"
   ]
  },
  {
   "cell_type": "code",
   "execution_count": 290,
   "metadata": {},
   "outputs": [
    {
     "name": "stdout",
     "output_type": "stream",
     "text": [
      "+------------------+\n",
      "|avg(count(period))|\n",
      "+------------------+\n",
      "| 6.898347107438017|\n",
      "+------------------+\n",
      "\n"
     ]
    }
   ],
   "source": [
    "x.filter((x.page == 'NextSong')) \\\n",
    "    .groupBy('userID', 'period') \\\n",
    "    .agg({'period':'count'})\\\n",
    "    .agg({'count(period)':'avg'}).show(50)"
   ]
  },
  {
   "cell_type": "markdown",
   "metadata": {},
   "source": [
    "The only way to do this is create an extra column of period to add extra category which is number of time user been in and out of home page. this is only possible if visting home is set to 1 and else is 0. otherwise this become like a counter not a category, and none of the bound conditions don't work if set \"Home\" to 0. Then for each user and each category do the counting, within the \"Next song\" filter, then get average of these sums."
   ]
  },
  {
   "cell_type": "code",
   "execution_count": null,
   "metadata": {},
   "outputs": [],
   "source": []
  }
 ],
 "metadata": {
  "kernelspec": {
   "display_name": "Python 3",
   "language": "python",
   "name": "python3"
  },
  "language_info": {
   "codemirror_mode": {
    "name": "ipython",
    "version": 3
   },
   "file_extension": ".py",
   "mimetype": "text/x-python",
   "name": "python",
   "nbconvert_exporter": "python",
   "pygments_lexer": "ipython3",
   "version": "3.6.3"
  }
 },
 "nbformat": 4,
 "nbformat_minor": 2
}
