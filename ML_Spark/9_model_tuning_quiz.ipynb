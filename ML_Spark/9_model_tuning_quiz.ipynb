{
 "cells": [
  {
   "cell_type": "markdown",
   "metadata": {},
   "source": [
    "# Model Tuning Quiz\n",
    "Use this Jupyter notebook to find the answer to the quiz in the previous section. There is an answer key in the next part of the lesson."
   ]
  },
  {
   "cell_type": "code",
   "execution_count": 14,
   "metadata": {},
   "outputs": [],
   "source": [
    "from pyspark.sql import SparkSession\n",
    "\n",
    "from pyspark.sql import SparkSession\n",
    "from pyspark.ml.feature import RegexTokenizer, CountVectorizer, IDF, StringIndexer\n",
    "from pyspark.ml.feature import VectorAssembler, Normalizer, StandardScaler, MinMaxScaler\n",
    "from pyspark.sql.functions import udf, sum as Fsum, pow as Fpow, col, sqrt as Fsqrt, concat, lit\n",
    "from pyspark.sql.types import IntegerType, FloatType\n",
    "from pyspark.ml import Pipeline\n",
    "import numpy as np\n",
    "import re\n",
    "from pyspark.ml.linalg import Vectors\n",
    "from pyspark.ml.regression import LinearRegression\n",
    "from pyspark.ml.classification import LogisticRegression\n",
    "from pyspark.ml.evaluation import MulticlassClassificationEvaluator\n",
    "from pyspark.ml.tuning import CrossValidator, ParamGridBuilder\n"
   ]
  },
  {
   "cell_type": "code",
   "execution_count": 10,
   "metadata": {},
   "outputs": [],
   "source": [
    "spark = SparkSession.builder \\\n",
    "    .master(\"local\") \\\n",
    "    .appName(\"Creating Features\") \\\n",
    "    .getOrCreate()"
   ]
  },
  {
   "cell_type": "code",
   "execution_count": 11,
   "metadata": {},
   "outputs": [],
   "source": [
    "stack_overflow_data = 'Train_onetag_small.json'"
   ]
  },
  {
   "cell_type": "code",
   "execution_count": 15,
   "metadata": {},
   "outputs": [
    {
     "data": {
      "text/plain": [
       "DataFrame[Body: string, Id: bigint, Tags: string, Title: string, oneTag: string]"
      ]
     },
     "execution_count": 15,
     "metadata": {},
     "output_type": "execute_result"
    }
   ],
   "source": [
    "df = spark.read.json(stack_overflow_data)\n",
    "df.persist()"
   ]
  },
  {
   "cell_type": "markdown",
   "metadata": {},
   "source": [
    "# Question\n",
    "What is the accuracy of the best model trained with the parameter grid described above (and keeping all other parameters at their default value computed on the 10% untouched data?\n",
    "\n",
    "### Step 1. Train Test Split\n",
    "As a first step break your data set into 90% of training data and set aside 10%. Set random seed to `42`."
   ]
  },
  {
   "cell_type": "code",
   "execution_count": 16,
   "metadata": {},
   "outputs": [],
   "source": [
    "df = df.withColumn(\"Desc\", concat(col(\"Title\"), lit(' '), col(\"Body\")))"
   ]
  },
  {
   "cell_type": "code",
   "execution_count": 17,
   "metadata": {},
   "outputs": [],
   "source": [
    "train, test = df.randomSplit([0.9, 0.1], seed=42)"
   ]
  },
  {
   "cell_type": "markdown",
   "metadata": {},
   "source": [
    "### Step 2. Build Pipeline"
   ]
  },
  {
   "cell_type": "code",
   "execution_count": null,
   "metadata": {},
   "outputs": [],
   "source": [
    "# On the first 90% of the data let's find the most accurate logistic regression model using 3-fold cross-validation with the following parameter grid:\n",
    "\n",
    "# CountVectorizer vocabulary size: [1000, 5000]\n",
    "# LogisticRegression regularization parameter: [0.0, 0.1]\n",
    "# LogisticRegression max Iteration number: [10]\n",
    "# Set the random seeds of all stages of the pipeline to 42."
   ]
  },
  {
   "cell_type": "code",
   "execution_count": 18,
   "metadata": {},
   "outputs": [],
   "source": [
    "Tokenizer = RegexTokenizer(inputCol=\"Body\", outputCol=\"words\", pattern=\"\\\\W\")\n",
    "cv = CountVectorizer(inputCol=\"words\", outputCol=\"TF\", vocabSize=10000)\n",
    "idf = IDF(inputCol=\"TF\", outputCol=\"features\") # this is a vector no need for extra vector assembler\n",
    "indexer = StringIndexer(inputCol=\"oneTag\", outputCol=\"label\")\n",
    "log_reg = LogisticRegression(maxIter=10, regParam=0.0, elasticNetParam=0)\n",
    "\n",
    "pipeline_ = Pipeline(stages=[Tokenizer, cv, idf, indexer, log_reg])"
   ]
  },
  {
   "cell_type": "code",
   "execution_count": 19,
   "metadata": {},
   "outputs": [],
   "source": [
    "pl_model_ = pipeline_.fit(train)\n",
    "results_ = pl_model_.transform(test)"
   ]
  },
  {
   "cell_type": "code",
   "execution_count": 29,
   "metadata": {},
   "outputs": [],
   "source": [
    "#results_.head(1) #label, raw prediction, probability (softmax), prediction"
   ]
  },
  {
   "cell_type": "code",
   "execution_count": 34,
   "metadata": {},
   "outputs": [
    {
     "name": "stdout",
     "output_type": "stream",
     "text": [
      "3874\n",
      "9919\n",
      "Accuracy 0.3905635648754915\n"
     ]
    }
   ],
   "source": [
    "print(results_.filter(results_.label == results_.prediction).count())\n",
    "print(results_.count())\n",
    "print('Accuracy', results_.filter(results_.label == results_.prediction).count()/results_.count())"
   ]
  },
  {
   "cell_type": "code",
   "execution_count": 36,
   "metadata": {},
   "outputs": [],
   "source": [
    "evaluator = MulticlassClassificationEvaluator()\n",
    "#data_test_ = test.select(col(\"label\").alias(\"label\"), col(\"DescGroup\").alias(\"prediction\"))) "
   ]
  },
  {
   "cell_type": "code",
   "execution_count": 38,
   "metadata": {},
   "outputs": [
    {
     "name": "stdout",
     "output_type": "stream",
     "text": [
      "0.3746224080568351\n"
     ]
    }
   ],
   "source": [
    "print(evaluator.evaluate(results_))   # defaults evaluator is f1 F1 SCORE without crossvaliation"
   ]
  },
  {
   "cell_type": "code",
   "execution_count": 39,
   "metadata": {},
   "outputs": [
    {
     "name": "stdout",
     "output_type": "stream",
     "text": [
      "Accuracy 0.3905635648754915\n"
     ]
    }
   ],
   "source": [
    "evaluator = MulticlassClassificationEvaluator(metricName=\"accuracy\")\n",
    "accuracy = evaluator.evaluate(results_)\n",
    "print('Accuracy', accuracy)"
   ]
  },
  {
   "cell_type": "code",
   "execution_count": 40,
   "metadata": {},
   "outputs": [
    {
     "name": "stdout",
     "output_type": "stream",
     "text": [
      "f1_score 0.3746224080568351\n"
     ]
    }
   ],
   "source": [
    "evaluator = MulticlassClassificationEvaluator(metricName=\"f1\")\n",
    "f1 = evaluator.evaluate(results_)\n",
    "print('f1_score', f1)"
   ]
  },
  {
   "cell_type": "code",
   "execution_count": 41,
   "metadata": {},
   "outputs": [
    {
     "name": "stdout",
     "output_type": "stream",
     "text": [
      "weightedPrecision 0.40999515806826886\n"
     ]
    }
   ],
   "source": [
    "evaluator = MulticlassClassificationEvaluator(metricName=\"weightedPrecision\")\n",
    "weightedPrecision = evaluator.evaluate(results_)\n",
    "print('weightedPrecision', weightedPrecision)"
   ]
  },
  {
   "cell_type": "code",
   "execution_count": 42,
   "metadata": {},
   "outputs": [
    {
     "name": "stdout",
     "output_type": "stream",
     "text": [
      "weightedRecall 0.3905635648754911\n"
     ]
    }
   ],
   "source": [
    "evaluator = MulticlassClassificationEvaluator(metricName=\"weightedRecall\")\n",
    "weightedRecall = evaluator.evaluate(results_)\n",
    "print('weightedRecall', weightedRecall)"
   ]
  },
  {
   "cell_type": "markdown",
   "metadata": {},
   "source": [
    "### Step 3. Tune Model\n",
    "On the first 90% of the data let's find the most accurate logistic regression model using 3-fold cross-validation with the following parameter grid:\n",
    "\n",
    "- CountVectorizer vocabulary size: `[1000, 5000]`\n",
    "- LogisticRegression regularization parameter: `[0.0, 0.1]`\n",
    "- LogisticRegression max Iteration number: `[10]`"
   ]
  },
  {
   "cell_type": "code",
   "execution_count": 47,
   "metadata": {},
   "outputs": [],
   "source": [
    "paramgrid = ParamGridBuilder() \\\n",
    "        .addGrid(cv.vocabSize, [1000, 5000]) \\\n",
    "        .addGrid(log_reg.regParam, [0.0, 0.1]) \\\n",
    "        .addGrid(log_reg.maxIter, [10]).build()\n",
    "\n",
    "crossval = CrossValidator(estimator=pipeline_,\n",
    "                          estimatorParamMaps=paramgrid,\n",
    "                          evaluator=MulticlassClassificationEvaluator(), #metricName\n",
    "                          numFolds=3,\n",
    "                          seed=42) #can set the metrics here in multiclass, default f1 without cross valiation, \n",
    "                                   # seem to be accuracy with cross validation"
   ]
  },
  {
   "cell_type": "markdown",
   "metadata": {},
   "source": [
    "### Step 4: Compute Accuracy of Best Model"
   ]
  },
  {
   "cell_type": "code",
   "execution_count": 48,
   "metadata": {},
   "outputs": [
    {
     "name": "stderr",
     "output_type": "stream",
     "text": [
      "Exception ignored in: <object repr() failed>\n",
      "Traceback (most recent call last):\n",
      "  File \"/opt/conda/lib/python3.6/site-packages/pyspark/ml/wrapper.py\", line 105, in __del__\n",
      "    SparkContext._active_spark_context._gateway.detach(self._java_obj)\n",
      "AttributeError: 'MulticlassClassificationEvaluator' object has no attribute '_java_obj'\n"
     ]
    }
   ],
   "source": [
    "model_cross_val = crossval.fit(train)\n"
   ]
  },
  {
   "cell_type": "code",
   "execution_count": 49,
   "metadata": {},
   "outputs": [
    {
     "data": {
      "text/plain": [
       "[0.3041127737507769,\n",
       " 0.23193062521929064,\n",
       " 0.3695808987443635,\n",
       " 0.2846052258245492]"
      ]
     },
     "execution_count": 49,
     "metadata": {},
     "output_type": "execute_result"
    }
   ],
   "source": [
    "model_cross_val.avgMetrics # f1 for train"
   ]
  },
  {
   "cell_type": "code",
   "execution_count": 52,
   "metadata": {},
   "outputs": [],
   "source": [
    "results_2 = model_cross_val.transform(test)"
   ]
  },
  {
   "cell_type": "code",
   "execution_count": 53,
   "metadata": {},
   "outputs": [
    {
     "data": {
      "text/plain": [
       "0.3923782639378968"
      ]
     },
     "execution_count": 53,
     "metadata": {},
     "output_type": "execute_result"
    }
   ],
   "source": [
    "evaluator.evaluate(results_2) # test, look like accuracy! expected to be f1"
   ]
  },
  {
   "cell_type": "code",
   "execution_count": 54,
   "metadata": {},
   "outputs": [
    {
     "name": "stdout",
     "output_type": "stream",
     "text": [
      "3892\n",
      "9919\n",
      "Accuracy 0.392378263937897\n"
     ]
    }
   ],
   "source": [
    "print(results_2.filter(results_2.label == results_2.prediction).count())\n",
    "print(results_2.count())\n",
    "print('Accuracy', results_2.filter(results_2.label == results_2.prediction).count()/results_2.count())"
   ]
  },
  {
   "cell_type": "code",
   "execution_count": null,
   "metadata": {},
   "outputs": [],
   "source": [
    "# only slightly better  cross validation defaults metrics is acccuracy ????!!!!!"
   ]
  },
  {
   "cell_type": "code",
   "execution_count": 55,
   "metadata": {},
   "outputs": [],
   "source": [
    "params = [{p.name: v for p, v in m.items()} for m in model_cross_val.getEstimatorParamMaps()]"
   ]
  },
  {
   "cell_type": "code",
   "execution_count": 56,
   "metadata": {},
   "outputs": [
    {
     "name": "stdout",
     "output_type": "stream",
     "text": [
      "[{'vocabSize': 1000, 'regParam': 0.0, 'maxIter': 10}, {'vocabSize': 1000, 'regParam': 0.1, 'maxIter': 10}, {'vocabSize': 5000, 'regParam': 0.0, 'maxIter': 10}, {'vocabSize': 5000, 'regParam': 0.1, 'maxIter': 10}]\n"
     ]
    }
   ],
   "source": [
    "print(params)"
   ]
  },
  {
   "cell_type": "code",
   "execution_count": 59,
   "metadata": {},
   "outputs": [
    {
     "data": {
      "text/plain": [
       "'f1'"
      ]
     },
     "execution_count": 59,
     "metadata": {},
     "output_type": "execute_result"
    }
   ],
   "source": [
    "model_cross_val.getEvaluator().getMetricName()"
   ]
  },
  {
   "cell_type": "code",
   "execution_count": null,
   "metadata": {},
   "outputs": [],
   "source": []
  }
 ],
 "metadata": {
  "kernelspec": {
   "display_name": "Python 3",
   "language": "python",
   "name": "python3"
  },
  "language_info": {
   "codemirror_mode": {
    "name": "ipython",
    "version": 3
   },
   "file_extension": ".py",
   "mimetype": "text/x-python",
   "name": "python",
   "nbconvert_exporter": "python",
   "pygments_lexer": "ipython3",
   "version": "3.6.3"
  }
 },
 "nbformat": 4,
 "nbformat_minor": 2
}
