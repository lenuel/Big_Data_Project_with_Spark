{
 "cells": [
  {
   "cell_type": "markdown",
   "metadata": {},
   "source": [
    "# K-Means Quiz\n",
    "Use this Jupyter notebook to find the answers to the quiz in the previous section. There is an answer key in the next part of the lesson.\n",
    "\n",
    "We might want to take a look at the distribution of the Title+Body length feature we used before and instead of using the raw number of words create categories based on this length: short, longer,..., super long.\n",
    "\n",
    "In the questions below I'll refer to length of the combined Title and Body fields as Description length (and by length we mean the number of words when the text is tokenized with pattern=\"\\W\")."
   ]
  },
  {
   "cell_type": "code",
   "execution_count": 73,
   "metadata": {},
   "outputs": [],
   "source": [
    "from pyspark.sql import SparkSession\n",
    "from pyspark.ml.feature import RegexTokenizer, CountVectorizer, IDF, StringIndexer\n",
    "from pyspark.ml.feature import RegexTokenizer, VectorAssembler, Normalizer, StandardScaler, MinMaxScaler\n",
    "from pyspark.sql.functions import concat, lit, udf, sum as Fsum, pow as Fpow, col, sqrt as Fsqrt, max as Fmax, min as Fmin\n",
    "from pyspark.sql.functions import stddev as Fstddev, mean, avg, count\n",
    "from pyspark.sql.types import IntegerType, FloatType\n",
    "import numpy as np\n",
    "import re\n",
    "from pyspark.sql import functions as F\n",
    "from pyspark.ml.linalg import Vectors\n",
    "from pyspark.ml.clustering import KMeans\n",
    "from pyspark.ml.evaluation import ClusteringEvaluator\n",
    "\n"
   ]
  },
  {
   "cell_type": "code",
   "execution_count": 19,
   "metadata": {},
   "outputs": [],
   "source": [
    "spark = SparkSession.builder \\\n",
    "    .master(\"local\") \\\n",
    "    .appName(\"Creating Features\") \\\n",
    "    .getOrCreate()"
   ]
  },
  {
   "cell_type": "markdown",
   "metadata": {},
   "source": [
    "### Read Dataset"
   ]
  },
  {
   "cell_type": "code",
   "execution_count": 20,
   "metadata": {},
   "outputs": [],
   "source": [
    "stack_overflow_data = 'Train_onetag_small.json'"
   ]
  },
  {
   "cell_type": "code",
   "execution_count": 21,
   "metadata": {},
   "outputs": [
    {
     "data": {
      "text/plain": [
       "DataFrame[Body: string, Id: bigint, Tags: string, Title: string, oneTag: string]"
      ]
     },
     "execution_count": 21,
     "metadata": {},
     "output_type": "execute_result"
    }
   ],
   "source": [
    "df = spark.read.json(stack_overflow_data)\n",
    "df.persist()"
   ]
  },
  {
   "cell_type": "markdown",
   "metadata": {},
   "source": [
    "### Build Description Length Features"
   ]
  },
  {
   "cell_type": "code",
   "execution_count": 22,
   "metadata": {},
   "outputs": [],
   "source": [
    "df = df.withColumn(\"Desc\", concat(col(\"Title\"), lit(' '), col(\"Body\")))"
   ]
  },
  {
   "cell_type": "code",
   "execution_count": 23,
   "metadata": {},
   "outputs": [],
   "source": [
    "regexTokenizer = RegexTokenizer(inputCol=\"Desc\", outputCol=\"words\", pattern=\"\\\\W\")\n",
    "df = regexTokenizer.transform(df)\n",
    "body_length = udf(lambda x: len(x), IntegerType())\n",
    "split_text = udf(lambda x: x.split(\" \"), IntegerType())\n",
    "df = df.withColumn(\"DescLength\", body_length(df.words))\n",
    "df = df.withColumn(\"TagLength\", body_length(split_text(df.Tags)))"
   ]
  },
  {
   "cell_type": "code",
   "execution_count": 24,
   "metadata": {},
   "outputs": [],
   "source": [
    "assembler = VectorAssembler(inputCols=[\"DescLength\"], outputCol=\"DescVec\")\n",
    "df = assembler.transform(df)"
   ]
  },
  {
   "cell_type": "markdown",
   "metadata": {},
   "source": [
    "# Question 1\n",
    "How many times is the Description length of the longest question longer than the shortest one's?\n",
    "\n",
    "Tip: Don't forget to import Spark SQL's aggregate functions that can operate on DataFrame columns."
   ]
  },
  {
   "cell_type": "code",
   "execution_count": 26,
   "metadata": {},
   "outputs": [
    {
     "name": "stdout",
     "output_type": "stream",
     "text": [
      "+----------+\n",
      "|DescLength|\n",
      "+----------+\n",
      "|        96|\n",
      "|        83|\n",
      "|      3168|\n",
      "|       124|\n",
      "|       154|\n",
      "|        75|\n",
      "|       121|\n",
      "|       170|\n",
      "|       107|\n",
      "|        74|\n",
      "|       145|\n",
      "|       148|\n",
      "|        24|\n",
      "|        49|\n",
      "|        48|\n",
      "|       389|\n",
      "|       380|\n",
      "|       216|\n",
      "|       123|\n",
      "|       404|\n",
      "+----------+\n",
      "only showing top 20 rows\n",
      "\n"
     ]
    }
   ],
   "source": [
    "df.select(\"DescLength\").show()"
   ]
  },
  {
   "cell_type": "code",
   "execution_count": 29,
   "metadata": {},
   "outputs": [
    {
     "data": {
      "text/plain": [
       "[Row(max(DescLength)=7532)]"
      ]
     },
     "execution_count": 29,
     "metadata": {},
     "output_type": "execute_result"
    }
   ],
   "source": [
    "df.groupBy().agg(Fmax(\"DescLength\")).collect()"
   ]
  },
  {
   "cell_type": "code",
   "execution_count": 32,
   "metadata": {},
   "outputs": [
    {
     "data": {
      "text/plain": [
       "[Row(max(DescLength)=7532)]"
      ]
     },
     "execution_count": 32,
     "metadata": {},
     "output_type": "execute_result"
    }
   ],
   "source": [
    "#also\n",
    "df.groupBy().max(\"DescLength\").collect()"
   ]
  },
  {
   "cell_type": "code",
   "execution_count": 30,
   "metadata": {},
   "outputs": [
    {
     "data": {
      "text/plain": [
       "[Row(min(DescLength)=10)]"
      ]
     },
     "execution_count": 30,
     "metadata": {},
     "output_type": "execute_result"
    }
   ],
   "source": [
    "df.groupBy().agg(Fmin(\"DescLength\")).collect() # 7532/10 = 753"
   ]
  },
  {
   "cell_type": "markdown",
   "metadata": {},
   "source": [
    "# Question 2\n",
    "What is the mean and standard deviation of the Description length?"
   ]
  },
  {
   "cell_type": "code",
   "execution_count": 37,
   "metadata": {},
   "outputs": [
    {
     "name": "stdout",
     "output_type": "stream",
     "text": [
      "mean [Row(avg(DescLength)=180.28187)]\n",
      "stddev [Row(stddev_samp(DescLength)=192.10819533505023)]\n"
     ]
    }
   ],
   "source": [
    "print('mean', df.groupBy().mean(\"DescLength\").collect())\n",
    "print('stddev', df.groupBy().agg(Fstddev(\"DescLength\")).collect())"
   ]
  },
  {
   "cell_type": "code",
   "execution_count": 36,
   "metadata": {},
   "outputs": [
    {
     "data": {
      "text/plain": [
       "[Row(summary='count', DescLength='100000'),\n",
       " Row(summary='mean', DescLength='180.28187'),\n",
       " Row(summary='stddev', DescLength='192.10819533505023'),\n",
       " Row(summary='min', DescLength='10'),\n",
       " Row(summary='max', DescLength='7532')]"
      ]
     },
     "execution_count": 36,
     "metadata": {},
     "output_type": "execute_result"
    }
   ],
   "source": [
    "df.describe(\"DescLength\").collect()"
   ]
  },
  {
   "cell_type": "markdown",
   "metadata": {},
   "source": [
    "# Question 3\n",
    "Let's use K-means to create 5 clusters of Description lengths. Set the random seed to 42 and fit a 5-class K-means model on the Description length column (you can use KMeans().setParams(...) ). What length is the center of the cluster representing the longest questions?"
   ]
  },
  {
   "cell_type": "code",
   "execution_count": 40,
   "metadata": {},
   "outputs": [],
   "source": [
    "dataset = df.select(col(\"DescVec\").alias(\"features\"))"
   ]
  },
  {
   "cell_type": "code",
   "execution_count": 57,
   "metadata": {},
   "outputs": [],
   "source": [
    "kmeans = KMeans().setParams(featuresCol=\"DescVec\", predictionCol=\"DescGroup\", k=5, seed=42)\n",
    "#kmeans = KMeans().setK(5).setSeed(42)\n",
    "model = kmeans.fit(df)"
   ]
  },
  {
   "cell_type": "code",
   "execution_count": 58,
   "metadata": {},
   "outputs": [],
   "source": [
    "#predictions = model.transform(dataset) # dataset was df[\"DescVec\"]\n",
    "df = model.transform(df)"
   ]
  },
  {
   "cell_type": "code",
   "execution_count": 59,
   "metadata": {},
   "outputs": [],
   "source": [
    "evaluator = ClusteringEvaluator()"
   ]
  },
  {
   "cell_type": "code",
   "execution_count": 44,
   "metadata": {},
   "outputs": [
    {
     "name": "stdout",
     "output_type": "stream",
     "text": [
      "Silhouette with squared euclidean distance = 0.7631218189100486\n"
     ]
    }
   ],
   "source": [
    "silhouette = evaluator.evaluate(predictions) # now df[\"DescVec\", \"predictions\"]\n",
    "print(\"Silhouette with squared euclidean distance = \" + str(silhouette))"
   ]
  },
  {
   "cell_type": "code",
   "execution_count": 80,
   "metadata": {},
   "outputs": [
    {
     "name": "stdout",
     "output_type": "stream",
     "text": [
      "Silhouette with squared euclidean distance = 0.7631218189100486\n"
     ]
    }
   ],
   "source": [
    "silhouette = evaluator.evaluate(df.select(col(\"DescVec\").alias(\"features\"), col(\"DescGroup\").alias(\"prediction\"))) \n",
    "print(\"Silhouette with squared euclidean distance = \" + str(silhouette))"
   ]
  },
  {
   "cell_type": "code",
   "execution_count": 63,
   "metadata": {},
   "outputs": [
    {
     "name": "stdout",
     "output_type": "stream",
     "text": [
      "+----------+--------+---------+\n",
      "|DescLength| DescVec|DescGroup|\n",
      "+----------+--------+---------+\n",
      "|        96|  [96.0]|        0|\n",
      "|        83|  [83.0]|        0|\n",
      "|      3168|[3168.0]|        3|\n",
      "|       124| [124.0]|        0|\n",
      "|       154| [154.0]|        0|\n",
      "|        75|  [75.0]|        0|\n",
      "|       121| [121.0]|        0|\n",
      "|       170| [170.0]|        4|\n",
      "|       107| [107.0]|        0|\n",
      "|        74|  [74.0]|        0|\n",
      "|       145| [145.0]|        0|\n",
      "|       148| [148.0]|        0|\n",
      "|        24|  [24.0]|        0|\n",
      "|        49|  [49.0]|        0|\n",
      "|        48|  [48.0]|        0|\n",
      "|       389| [389.0]|        2|\n",
      "|       380| [380.0]|        2|\n",
      "|       216| [216.0]|        4|\n",
      "|       123| [123.0]|        0|\n",
      "|       404| [404.0]|        2|\n",
      "+----------+--------+---------+\n",
      "only showing top 20 rows\n",
      "\n"
     ]
    }
   ],
   "source": [
    "df.select([\"DescLength\", \"DescVec\", \"DescGroup\"]).show()"
   ]
  },
  {
   "cell_type": "code",
   "execution_count": 65,
   "metadata": {},
   "outputs": [
    {
     "name": "stdout",
     "output_type": "stream",
     "text": [
      "+--------------------+----+--------------+--------------------+------+--------------------+--------------------+----------+---------+--------+---------+\n",
      "|                Body|  Id|          Tags|               Title|oneTag|                Desc|               words|DescLength|TagLength| DescVec|DescGroup|\n",
      "+--------------------+----+--------------+--------------------+------+--------------------+--------------------+----------+---------+--------+---------+\n",
      "|<p>Ok After lots ...|2032|php svg arabic|Generating SVG Dy...|   php|Generating SVG Dy...|[generating, svg,...|      7532|        3|[7532.0]|        3|\n",
      "+--------------------+----+--------------+--------------------+------+--------------------+--------------------+----------+---------+--------+---------+\n",
      "\n"
     ]
    }
   ],
   "source": [
    "df.filter(df.DescLength == 7532.0).show()"
   ]
  },
  {
   "cell_type": "code",
   "execution_count": 54,
   "metadata": {},
   "outputs": [
    {
     "data": {
      "text/plain": [
       "[array([ 97.09383642]),\n",
       " array([ 1077.93227792]),\n",
       " array([ 502.39304611]),\n",
       " array([ 2731.08284024]),\n",
       " array([ 242.33112488])]"
      ]
     },
     "execution_count": 54,
     "metadata": {},
     "output_type": "execute_result"
    }
   ],
   "source": [
    "model.clusterCenters()"
   ]
  },
  {
   "cell_type": "code",
   "execution_count": 77,
   "metadata": {},
   "outputs": [
    {
     "name": "stdout",
     "output_type": "stream",
     "text": [
      "+---------+------------------+\n",
      "|DescGroup|   avg(DescLength)|\n",
      "+---------+------------------+\n",
      "|        1|      1074.2109375|\n",
      "|        3|2731.0828402366865|\n",
      "|        4| 241.0267434466191|\n",
      "|        2|499.83863263173606|\n",
      "|        0| 96.71484436347646|\n",
      "+---------+------------------+\n",
      "\n"
     ]
    }
   ],
   "source": [
    "df.groupby(\"DescGroup\").agg(avg(\"DescLength\")).show()"
   ]
  },
  {
   "cell_type": "code",
   "execution_count": 78,
   "metadata": {},
   "outputs": [
    {
     "name": "stdout",
     "output_type": "stream",
     "text": [
      "+---------+------------------+\n",
      "|DescGroup|   avg(DescLength)|\n",
      "+---------+------------------+\n",
      "|        1|      1074.2109375|\n",
      "|        3|2731.0828402366865|\n",
      "|        4| 241.0267434466191|\n",
      "|        2|499.83863263173606|\n",
      "|        0| 96.71484436347646|\n",
      "+---------+------------------+\n",
      "\n"
     ]
    }
   ],
   "source": [
    "df.groupby(\"DescGroup\").agg(avg(\"DescLength\")).show()"
   ]
  },
  {
   "cell_type": "code",
   "execution_count": null,
   "metadata": {},
   "outputs": [],
   "source": []
  }
 ],
 "metadata": {
  "kernelspec": {
   "display_name": "Python 3",
   "language": "python",
   "name": "python3"
  },
  "language_info": {
   "codemirror_mode": {
    "name": "ipython",
    "version": 3
   },
   "file_extension": ".py",
   "mimetype": "text/x-python",
   "name": "python",
   "nbconvert_exporter": "python",
   "pygments_lexer": "ipython3",
   "version": "3.6.3"
  }
 },
 "nbformat": 4,
 "nbformat_minor": 2
}
